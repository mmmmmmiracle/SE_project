{
 "cells": [
  {
   "cell_type": "code",
   "execution_count": 23,
   "metadata": {},
   "outputs": [],
   "source": [
    "import pandas as pd \n",
    "import numpy as np\n",
    "import matplotlib.pyplot as plt\n",
    "import json\n",
    "\n",
    "# #显示所有列\n",
    "# pd.set_option('display.max_columns', None)\n",
    "# #显示所有行\n",
    "# pd.set_option('display.max_rows', None)"
   ]
  },
  {
   "cell_type": "code",
   "execution_count": 31,
   "metadata": {},
   "outputs": [],
   "source": [
    "class Permision(object):\n",
    "    def __init__(self):\n",
    "        f =  open('android_all_permisions.json', 'r')\n",
    "        self.all_permisions_dict = json.load(f)\n",
    "        self.all_permisions = set(self.all_permisions_dict.keys())\n",
    "        self.key2index()\n",
    "        self.index2key()\n",
    "    \n",
    "    def key2index(self):\n",
    "        index = 0\n",
    "        self.key2index_dict = {}\n",
    "        for key in self.all_permisions_dict.keys():\n",
    "            self.key2index_dict[key] = index\n",
    "            index += 1\n",
    "    \n",
    "    def index2key(self):\n",
    "        index = 0\n",
    "        self.index2key_dict = {}\n",
    "        for key in self.all_permisions_dict.keys():\n",
    "            self.index2key_dict[index] = key\n",
    "            index += 1\n",
    "\n",
    "class ApkPermision(Permision):\n",
    "    def __init__(self,permision_file):\n",
    "        super(ApkPermision,self).__init__()\n",
    "        self.name = permision_file.split('\\\\')[-1].split('.')[0][:-3]\n",
    "        self.permisions = pd.read_csv(permision_file,header=None,index_col=None)[0].values[:-1]\n",
    "        \n",
    "    def permision2array(self):\n",
    "        res = np.zeros(len(self.all_permisions))\n",
    "        for permision in self.permisions:\n",
    "            if permision in self.all_permisions:\n",
    "#                 print(self.key2index_dict[permision])\n",
    "                res[self.key2index_dict[permision]] = 1\n",
    "        return res\n",
    "\n",
    "class PermisionAnalysisUtil(object):\n",
    "    '''权限分析工具类'''\n",
    "    \n",
    "    def __init__(self,path):\n",
    "        self.permision = Permision()\n",
    "        self.permisions_df = self.get_apks_permisions(path)\n",
    "    \n",
    "    def get_apks_permisions(self,path):\n",
    "        '''得到所有APK的所有权限'''\n",
    "        import glob\n",
    "        apks = glob.glob(f'{path}/*.txt')\n",
    "        permision = self.permision.all_permisions\n",
    "        permisions_df = pd.DataFrame(index=permision)\n",
    "        for apk in apks:\n",
    "            apk = ApkPermision(apk)\n",
    "            permisions_df[apk.name] = apk.permision2array()\n",
    "        permisions_df = permisions_df.astype(np.int16)\n",
    "        return permisions_df\n",
    "    \n",
    "    def get_permision_num(self):\n",
    "        '''得到每一个APK的权限数量'''\n",
    "        return self.permisions_df.sum()\n",
    "    \n",
    "    def get_permision_list(self,apk_names=None):\n",
    "        '''得到APK的权限列表'''\n",
    "        from collections import Iterable\n",
    "        res = {}\n",
    "        if apk_names is None:\n",
    "            for apk_name in self.permisions_df.columns.values:\n",
    "                res[apk_name] = set(self.permisions_df[self.permisions_df[apk_name] == 1.0].index.values)\n",
    "        else:\n",
    "            if isinstance(apk_names,tuple) or isinstance(apk_names,list):\n",
    "                for apk_name in apk_names:\n",
    "                    res[apk_name] = set(self.permisions_df[self.permisions_df[apk_name] == 1.0].index.values)\n",
    "            else:\n",
    "                print('apk_names should be a list or a tuple of apk names')\n",
    "        return res\n",
    "    \n",
    "    def get_top_permision(self,top=10):\n",
    "        '''得到需求最多的权限'''\n",
    "        if top < 1 or top > len(self.permisions_df):\n",
    "            print(f'please type in a num in [1,{len(self.permisions_df)}]')\n",
    "            return None\n",
    "        else:\n",
    "            return self.permisions_df.sum(axis=1).sort_values(ascending=False)[:top]\n",
    "    \n",
    "    def get_permisions_all_have(self):\n",
    "        '''得到所有apk共有的权限'''\n",
    "        top100_permision_df = self.get_top_permision(100)\n",
    "        return top100_permision_df[top100_permision_df[top100_permision_df.index]==len(self.permisions_df.columns)]\n",
    "    \n",
    "    def get_permisions_description(self,permisions=None,is_index=False):\n",
    "        '''\n",
    "            功能：得到权限的说明\n",
    "            参数：\n",
    "                permisions 权限名称或者列表\n",
    "                is_index   是通过下标还是权限名称访问，每个权限有一个唯一标识[0-134](共有135个权限)  \n",
    "        ''' \n",
    "        res = {}\n",
    "        indexes = permisions\n",
    "        if is_index:\n",
    "            permisions = []\n",
    "            if isinstance(indexes,int):\n",
    "                permisions.append(self.permision.index2key_dict[indexes])\n",
    "            elif isinstance(indexes,tuple) or isinstance(indexes,list):\n",
    "                for index in indexes:\n",
    "                    permisions.append(self.permision.index2key_dict[index])\n",
    "            else:\n",
    "                pass\n",
    "\n",
    "        if isinstance(permisions,str):\n",
    "            res = {permisions:self.permision.all_permisions_dict[permisions] }\n",
    "        elif isinstance(permisions,tuple) or isinstance(permisions,list):\n",
    "            for permision in permisions:\n",
    "                res[permision] = self.permision.all_permisions_dict[permision]\n",
    "        elif permisions is None:\n",
    "            res = self.permision.all_permisions_dict\n",
    "        return res\n",
    "    \n",
    "    \n",
    "    def get_cosine_similarity(self,vectors):\n",
    "        '''计算余弦相似度'''\n",
    "        from sklearn.metrics.pairwise import cosine_similarity,pairwise_distances\n",
    "        cos_sim = cosine_similarity(vectors)\n",
    "        pair_dis = pairwise_distances(vectors,metric=\"cosine\")\n",
    "        return {'cos_sim':cos_sim,'pair_dis':pair_dis}"
   ]
  },
  {
   "cell_type": "code",
   "execution_count": 32,
   "metadata": {},
   "outputs": [
    {
     "name": "stdout",
     "output_type": "stream",
     "text": [
      "所有APK的所有权限*******************\n",
      "                                 huopaozhibo  ruanruan\n",
      "GLOBAL_SEARCH                             0         0\n",
      "MOUNT_UNMOUNT_FILESYSTEMS                 1         1\n",
      "BROADCAST_WAP_PUSH                        1         1\n",
      "GET_ACCOUNTS                              0         1\n",
      "BIND_CARRIER_MESSAGING_SERVICE            1         1\n",
      "...                                     ...       ...\n",
      "READ_CONTACTS                             0         0\n",
      "CHANGE_WIFI_STATE                         0         0\n",
      "CHANGE_COMPONENT_ENABLED_STATE            1         1\n",
      "BLUETOOTH                                 0         0\n",
      "WRITE_CALL_LOG                            0         0\n",
      "\n",
      "[135 rows x 2 columns]\n"
     ]
    }
   ],
   "source": [
    "util = PermisionAnalysisUtil('apk_permisions')\n",
    "print('所有APK的所有权限*******************\\n',util.permisions_df)"
   ]
  },
  {
   "cell_type": "code",
   "execution_count": 33,
   "metadata": {},
   "outputs": [
    {
     "name": "stdout",
     "output_type": "stream",
     "text": [
      "\n",
      "权限列表*******************\n",
      " {'ruanruan': {'BIND_PRINT_SERVICE', 'GET_ACCOUNTS_PRIVILEGED', 'MOUNT_UNMOUNT_FILESYSTEMS', 'BROADCAST_WAP_PUSH', 'FLASHLIGHT', 'TRANSMIT_IR', 'ACCESS_FINE_LOCATION', 'GET_ACCOUNTS', 'BIND_CARRIER_MESSAGING_SERVICE', 'DELETE_PACKAGES', 'RECORD_AUDIO', 'CHANGE_WIFI_MULTICAST_STATE', 'SET_PROCESS_LIMIT', 'RESTART_PACKAGES', 'SET_DEBUG_APP', 'READ_FRAME_BUFFER', 'CONTROL_LOCATION_UPDATES', 'REQUEST_IGNORE_BATTERY_OPTIMIZATIONS', 'BIND_DREAM_SERVICE', 'MANAGE_DOCUMENTS', 'BIND_MIDI_DEVICE_SERVICE', 'SET_TIME', 'WRITE_SYNC_SETTINGS', 'CHANGE_COMPONENT_ENABLED_STATE'}}\n"
     ]
    }
   ],
   "source": [
    "print('\\n权限列表*******************\\n',util.get_permision_list(['ruanruan']))"
   ]
  },
  {
   "cell_type": "code",
   "execution_count": 34,
   "metadata": {},
   "outputs": [
    {
     "name": "stdout",
     "output_type": "stream",
     "text": [
      "\n",
      "每一个APK的权限数量*******************\n",
      " huopaozhibo    29\n",
      "ruanruan       24\n",
      "dtype: int64\n"
     ]
    }
   ],
   "source": [
    "print('\\n每一个APK的权限数量*******************\\n',util.get_permision_num())"
   ]
  },
  {
   "cell_type": "code",
   "execution_count": 35,
   "metadata": {},
   "outputs": [
    {
     "name": "stdout",
     "output_type": "stream",
     "text": [
      "\n",
      "需求最多的权限*******************\n",
      " FLASHLIGHT                              2\n",
      "BIND_DREAM_SERVICE                      2\n",
      "REQUEST_IGNORE_BATTERY_OPTIMIZATIONS    2\n",
      "ACCESS_FINE_LOCATION                    2\n",
      "CHANGE_WIFI_MULTICAST_STATE             2\n",
      "DELETE_PACKAGES                         2\n",
      "SET_PROCESS_LIMIT                       2\n",
      "SET_DEBUG_APP                           2\n",
      "MANAGE_DOCUMENTS                        2\n",
      "RESTART_PACKAGES                        2\n",
      "SET_TIME                                2\n",
      "BIND_MIDI_DEVICE_SERVICE                2\n",
      "RECORD_AUDIO                            2\n",
      "BIND_CARRIER_MESSAGING_SERVICE          2\n",
      "WRITE_SYNC_SETTINGS                     2\n",
      "dtype: int64\n"
     ]
    }
   ],
   "source": [
    "print('\\n需求最多的权限*******************\\n',util.get_top_permision(top=15))"
   ]
  },
  {
   "cell_type": "code",
   "execution_count": 36,
   "metadata": {},
   "outputs": [
    {
     "name": "stdout",
     "output_type": "stream",
     "text": [
      "\n",
      "每个APK都有的权限*******************\n",
      " FLASHLIGHT                              2\n",
      "BIND_DREAM_SERVICE                      2\n",
      "REQUEST_IGNORE_BATTERY_OPTIMIZATIONS    2\n",
      "ACCESS_FINE_LOCATION                    2\n",
      "CHANGE_WIFI_MULTICAST_STATE             2\n",
      "DELETE_PACKAGES                         2\n",
      "SET_PROCESS_LIMIT                       2\n",
      "SET_DEBUG_APP                           2\n",
      "MANAGE_DOCUMENTS                        2\n",
      "RESTART_PACKAGES                        2\n",
      "SET_TIME                                2\n",
      "BIND_MIDI_DEVICE_SERVICE                2\n",
      "RECORD_AUDIO                            2\n",
      "BIND_CARRIER_MESSAGING_SERVICE          2\n",
      "WRITE_SYNC_SETTINGS                     2\n",
      "BROADCAST_WAP_PUSH                      2\n",
      "CHANGE_COMPONENT_ENABLED_STATE          2\n",
      "MOUNT_UNMOUNT_FILESYSTEMS               2\n",
      "dtype: int64\n"
     ]
    }
   ],
   "source": [
    "print('\\n每个APK都有的权限*******************\\n',util.get_permisions_all_have())"
   ]
  },
  {
   "cell_type": "code",
   "execution_count": 38,
   "metadata": {},
   "outputs": [
    {
     "name": "stdout",
     "output_type": "stream",
     "text": [
      "\n",
      "权限的解释说明*******************\n",
      " {'ACCESS_CHECKIN_PROPERTIES': '允许读写访问”properties”表在checkin数据库中，改值可以修改上传', 'ACCESS_COARSE_LOCATION': '允许一个程序访问CellID或 WiFi热点来获取粗略的位置'}\n",
      "\n",
      "权限的解释说明*******************\n",
      " {'ACCESS_CHECKIN_PROPERTIES': '允许读写访问”properties”表在checkin数据库中，改值可以修改上传', 'ACCESS_NETWORK_STATE': '允许程序获取网络信息状态，如当前的网络连接是否有效'}\n"
     ]
    }
   ],
   "source": [
    "print('\\n权限的解释说明*******************\\n',util.get_permisions_description([i for i in range(2)],is_index=True))\n",
    "print('\\n权限的解释说明*******************\\n',util.get_permisions_description(['ACCESS_CHECKIN_PROPERTIES','ACCESS_NETWORK_STATE'],is_index=False))"
   ]
  },
  {
   "cell_type": "code",
   "execution_count": 39,
   "metadata": {},
   "outputs": [
    {
     "name": "stdout",
     "output_type": "stream",
     "text": [
      "权限的余弦相似度*******************\n",
      " {'cos_sim': array([[1.        , 0.68228824],\n",
      "       [0.68228824, 1.        ]]), 'pair_dis': array([[0.        , 0.31771176],\n",
      "       [0.31771176, 0.        ]])}\n"
     ]
    }
   ],
   "source": [
    "print('APK权限的余弦相似度*******************\\n',util.get_cosine_similarity(np.array(util.permisions_df).transpose()))"
   ]
  },
  {
   "cell_type": "code",
   "execution_count": 21,
   "metadata": {},
   "outputs": [],
   "source": [
    "# !python analysis.py"
   ]
  },
  {
   "cell_type": "code",
   "execution_count": null,
   "metadata": {},
   "outputs": [],
   "source": []
  }
 ],
 "metadata": {
  "kernelspec": {
   "display_name": "Python 3",
   "language": "python",
   "name": "python3"
  },
  "language_info": {
   "codemirror_mode": {
    "name": "ipython",
    "version": 3
   },
   "file_extension": ".py",
   "mimetype": "text/x-python",
   "name": "python",
   "nbconvert_exporter": "python",
   "pygments_lexer": "ipython3",
   "version": "3.7.4"
  }
 },
 "nbformat": 4,
 "nbformat_minor": 4
}
